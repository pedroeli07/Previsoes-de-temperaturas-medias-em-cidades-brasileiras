{
 "cells": [
  {
   "cell_type": "code",
   "execution_count": 4,
   "metadata": {},
   "outputs": [
    {
     "name": "stdout",
     "output_type": "stream",
     "text": [
      "               dt  AverageTemperature  AverageTemperatureUncertainty  \\\n",
      "54228  1843-01-01              18.874                          2.017   \n",
      "54229  1843-02-01              19.993                          1.790   \n",
      "54230  1843-03-01              21.656                          1.912   \n",
      "54231  1843-04-01              25.205                          1.853   \n",
      "54232  1843-05-01              28.203                          1.551   \n",
      "\n",
      "            City               Country Latitude Longitude  NumericLatitude  \\\n",
      "54228  Abu Dhabi  United Arab Emirates   24.92N    54.98E            24.92   \n",
      "54229  Abu Dhabi  United Arab Emirates   24.92N    54.98E            24.92   \n",
      "54230  Abu Dhabi  United Arab Emirates   24.92N    54.98E            24.92   \n",
      "54231  Abu Dhabi  United Arab Emirates   24.92N    54.98E            24.92   \n",
      "54232  Abu Dhabi  United Arab Emirates   24.92N    54.98E            24.92   \n",
      "\n",
      "       NumericLongitude  \n",
      "54228             54.98  \n",
      "54229             54.98  \n",
      "54230             54.98  \n",
      "54231             54.98  \n",
      "54232             54.98  \n"
     ]
    }
   ],
   "source": [
    "import pandas as pd\n",
    "\n",
    "# Leitura do DataFrame a partir do arquivo CSV\n",
    "tempcity = pd.read_csv('GlobalLandTemperaturesByCity.csv')\n",
    "\n",
    "# Função para converter as coordenadas no formato graus, minutos, direções para valores numéricos\n",
    "def parse_coordinates(coord):\n",
    "    direction = coord[-1]  # Último caractere (N, S, E, W)\n",
    "    value = float(coord[:-1])  # Valor numérico\n",
    "    if direction in ['S', 'W']:\n",
    "        value = -value  # Converter coordenadas do Sul e Oeste para valores negativos\n",
    "    return value\n",
    "\n",
    "# Aplicar a função para converter as coordenadas de Latitude e Longitude em valores numéricos\n",
    "tempcity['NumericLatitude'] = tempcity['Latitude'].apply(parse_coordinates)\n",
    "tempcity['NumericLongitude'] = tempcity['Longitude'].apply(parse_coordinates)\n",
    "\n",
    "# Filtragem das cidades com latitudes no intervalo desejado\n",
    "filtered_cities = tempcity[\n",
    "    ((tempcity['NumericLatitude'] >= -26) & (tempcity['NumericLatitude'] <= -20)) |\n",
    "    ((tempcity['NumericLatitude'] >= 20) & (tempcity['NumericLatitude'] <= 26))\n",
    "]\n",
    "\n",
    "# Visualização das primeiras linhas do DataFrame resultante\n",
    "print(filtered_cities.head())\n",
    "\n",
    "# Salvar o DataFrame resultante em um novo arquivo CSV (opcional)\n",
    "filtered_cities.to_csv('filtered_cities.csv', index=False)\n"
   ]
  }
 ],
 "metadata": {
  "kernelspec": {
   "display_name": "Python 3",
   "language": "python",
   "name": "python3"
  },
  "language_info": {
   "codemirror_mode": {
    "name": "ipython",
    "version": 3
   },
   "file_extension": ".py",
   "mimetype": "text/x-python",
   "name": "python",
   "nbconvert_exporter": "python",
   "pygments_lexer": "ipython3",
   "version": "3.11.5"
  }
 },
 "nbformat": 4,
 "nbformat_minor": 2
}
